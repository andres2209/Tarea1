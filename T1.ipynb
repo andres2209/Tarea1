{
 "cells": [
  {
   "cell_type": "markdown",
   "metadata": {},
   "source": [
    "# Tarea 1\n",
    "\n"
   ]
  },
  {
   "cell_type": "markdown",
   "metadata": {},
   "source": [
    "1. Comprueba que un subguión `_` para separar miles puede ser usado en vez de comas al escribir números grandes. El resultado aún es un número. Puedes escribir un millón, o mil millones, (o algún otro ejemplo)."
   ]
  },
  {
   "cell_type": "code",
   "execution_count": null,
   "metadata": {},
   "outputs": [],
   "source": [
    "x = 1000_000\n",
    "x"
   ]
  },
  {
   "cell_type": "markdown",
   "metadata": {},
   "source": [
    "2. Calcula cuántas horas trabajan en total los 130 congresistas de nuestro país en un año. Asume que trabajan 40 horas a la semana, por 48 semanas al año (considerando que tienen vacaciones y no trabajan sobretiempo). "
   ]
  },
  {
   "cell_type": "code",
   "execution_count": 20,
   "metadata": {},
   "outputs": [
    {
     "name": "stdout",
     "output_type": "stream",
     "text": [
      "los 130 congresistas trabajan  249600 horas al año\n"
     ]
    }
   ],
   "source": [
    "Congresistas = 130\n",
    "HxS = 40\n",
    "SxA = 48\n",
    "texto0 = \"los 130 congresistas trabajan \"\n",
    "operacion0 = (Congresistas*HxS*SxA)\n",
    "texto1 = \"horas al año\"\n",
    "print (texto0 , operacion0 , texto1)"
   ]
  },
  {
   "cell_type": "markdown",
   "metadata": {},
   "source": [
    "3. Ahora calcula el salario de un congresista por hora. Los supuestos del anterior ejercicio se mantienen (Se puede pasar por alto las vacaciones). Cabe recordar que los congresistas ganan 15,600 soles mensuales.   \n",
    "- Crea una variable para el salario por hora de un congresista.   \n",
    "- Crea una variable para la suma de los salarios por hora de los 130 congresistas.\n"
   ]
  },
  {
   "cell_type": "code",
   "execution_count": 28,
   "metadata": {},
   "outputs": [
    {
     "name": "stdout",
     "output_type": "stream",
     "text": [
      "El salario por hora de un congresista es 97.5\n",
      "El salario por hora de los 130 congresistas es 12675.0\n"
     ]
    }
   ],
   "source": [
    "SalxM = 15600\n",
    "HxA = operacion0/Congresistas\n",
    "SalxA = SalxM*12\n",
    "respuesta0 = SalxA/HxA\n",
    "respuesta1 = respuesta0*Congresistas\n",
    "texto0 = \"El salario por hora de un congresista es\"\n",
    "texto1 = \"El salario por hora de los 130 congresistas es\"\n",
    "print (texto0 , respuesta0)\n",
    "print (texto1 , respuesta1)"
   ]
  },
  {
   "cell_type": "markdown",
   "metadata": {},
   "source": [
    "4. Benito se acaba de comprar una computadora Asus a 2,579 soles. Es es el precio después del IGV, sin embargo, él quisiera saber cuántos soles está pagando de IGV. Calcule el monto (el IGV es 18% sobre el valor base). Cree una variable para el porcentaje de IGV, el precio del celular con impuesto, el monto del impuesto y el precio de la computadora sin impuesto."
   ]
  },
  {
   "cell_type": "code",
   "execution_count": 33,
   "metadata": {},
   "outputs": [
    {
     "name": "stdout",
     "output_type": "stream",
     "text": [
      "El monto del impuesto es 393.406779661017\n",
      "El precio de la computadora sin impuesto es 2185.593220338983\n"
     ]
    }
   ],
   "source": [
    "IGV = 0.18\n",
    "AxIGV = 2579\n",
    "MontoImp = AxIGV- AxIGV/(1+IGV)\n",
    "A = AxIGV/(1+IGV)\n",
    "texto0 = \"El monto del impuesto es\"\n",
    "texto1 = \"El precio de la computadora sin impuesto es\"\n",
    "print (texto0 , MontoImp)\n",
    "print (texto1 , A)"
   ]
  },
  {
   "cell_type": "markdown",
   "metadata": {},
   "source": [
    "5.  Cristina percibe el sueldo mínimo (931 soles). Compruebe que el salario anual de Cristina es menor al salario anual de un congresista, usando operadores de comparación y una expresión que detalle el monto mensual y el número de meses trabajados de ambos."
   ]
  },
  {
   "cell_type": "code",
   "execution_count": 35,
   "metadata": {},
   "outputs": [
    {
     "data": {
      "text/plain": [
       "True"
      ]
     },
     "execution_count": 35,
     "metadata": {},
     "output_type": "execute_result"
    }
   ],
   "source": [
    "C = 931\n",
    "CriSxA = C*12\n",
    "ConSxA = SalxM*12\n",
    "CriSxA < ConSxA"
   ]
  },
  {
   "cell_type": "markdown",
   "metadata": {},
   "source": [
    "6. Una comunidad de 5309 familias tiene que ser compensada monetariamente por una compañía transnacional. El monto negociado es de 100 millones de soles, sin embargo, una cláusula del contrato dice que el monto de compensación tiene que ser un número entero. ¿Cuántos soles adicionales se le  tiene  que agregar al monto negociado para que las familias reciban una cantidad entera? (Pista: Acuérdate del  floor y el módulo)."
   ]
  },
  {
   "cell_type": "code",
   "execution_count": 53,
   "metadata": {},
   "outputs": [
    {
     "name": "stdout",
     "output_type": "stream",
     "text": [
      "Se deben agregar 324 soles al monto original para que las familias reciban cantidades enteras\n"
     ]
    }
   ],
   "source": [
    "Comunidad = 5309\n",
    "Monto = 100_000_000\n",
    "#\"//\" floor (solo entero) \"%\" modulo (parte decimal)\n",
    "Sobrante = Monto % Comunidad\n",
    "operacion0 = Comunidad - Sobrante\n",
    "texto0 = \"Se deben agregar\"\n",
    "texto1 = \"soles al monto original para que las familias reciban cantidades enteras\"\n",
    "print (texto0 , operacion0 , texto1)\n"
   ]
  },
  {
   "cell_type": "markdown",
   "metadata": {},
   "source": [
    "7. Tenemos la siguiente lista de cursos: "
   ]
  },
  {
   "cell_type": "code",
   "execution_count": 46,
   "metadata": {},
   "outputs": [],
   "source": [
    "cursos = [\"Historia\", \"Economia\", \"Antropologia\", \"RSP\", \"Derecho\"]"
   ]
  },
  {
   "cell_type": "markdown",
   "metadata": {},
   "source": [
    "Realiza las siguientes operaciones en bloques diferentes: \n",
    "- Calcula cuántos elementos tiene la lista.\n"
   ]
  },
  {
   "cell_type": "code",
   "execution_count": 55,
   "metadata": {},
   "outputs": [
    {
     "name": "stdout",
     "output_type": "stream",
     "text": [
      "la lista tiene una cantidad de elementos igual a 5\n"
     ]
    }
   ],
   "source": [
    "cursos = [\"Historia\", \"Economia\", \"Antropologia\", \"RSP\", \"Derecho\"]\n",
    "len (cursos)\n",
    "texto0 = \"la lista tiene una cantidad de elementos igual a\"\n",
    "print (texto0 , len (cursos))"
   ]
  },
  {
   "cell_type": "markdown",
   "metadata": {},
   "source": [
    "8.\n",
    "- Agrega tres cursos adicionales de 3 formas diferentes (uno por forma):\n",
    "   - Suma (+) una lista que contenga un curso adicional. \n",
    "   - Usa el append. \n",
    "   - Usa el extend. \n"
   ]
  },
  {
   "cell_type": "code",
   "execution_count": 63,
   "metadata": {},
   "outputs": [
    {
     "name": "stdout",
     "output_type": "stream",
     "text": [
      "['Historia', 'Economia', 'Antropologia', 'RSP', 'Derecho', 'Finanzas']\n",
      "['Historia', 'Economia', 'Antropologia', 'RSP', 'Derecho', 'Finanzas', 'Epistemología']\n",
      "['Historia', 'Economia', 'Antropologia', 'RSP', 'Derecho', 'Finanzas', 'Epistemología', 'Mate1']\n"
     ]
    }
   ],
   "source": [
    "cursos = [\"Historia\", \"Economia\", \"Antropologia\", \"RSP\", \"Derecho\"]\n",
    "cursos.append (\"Finanzas\")\n",
    "print (cursos)\n",
    "mas_cursos = [\"Epistemología\"]\n",
    "cursos.extend(mas_cursos)\n",
    "print (cursos)\n",
    "otro_curso = [\"Mate1\"]\n",
    "cursos_fin =cursos + otro_curso\n",
    "print (cursos_fin)\n"
   ]
  },
  {
   "cell_type": "markdown",
   "metadata": {},
   "source": [
    "9.\n",
    "- Usa la indexación para señalar a _RSP_.\n"
   ]
  },
  {
   "cell_type": "code",
   "execution_count": 73,
   "metadata": {},
   "outputs": [
    {
     "data": {
      "text/plain": [
       "'RSP'"
      ]
     },
     "execution_count": 73,
     "metadata": {},
     "output_type": "execute_result"
    }
   ],
   "source": [
    "cursos = [\"Historia\", \"Economia\", \"Antropologia\", \"RSP\", \"Derecho\"]\n",
    "cursos.pop (cursos.index (\"RSP\"))\n"
   ]
  },
  {
   "cell_type": "markdown",
   "metadata": {},
   "source": [
    "10.\n",
    "- Remueve el curso que menos te guste de la lista.\n"
   ]
  },
  {
   "cell_type": "code",
   "execution_count": 77,
   "metadata": {},
   "outputs": [
    {
     "name": "stdout",
     "output_type": "stream",
     "text": [
      "['Historia', 'Economia', 'Antropologia', 'Derecho']\n",
      "['Historia', 'Economia', 'Antropologia', 'Derecho']\n"
     ]
    }
   ],
   "source": [
    "cursos = [\"Historia\", \"Economia\", \"Antropologia\", \"RSP\", \"Derecho\"]\n",
    "cursos.remove (\"RSP\")\n",
    "print (cursos)\n",
    "cursos = [\"Historia\", \"Economia\", \"Antropologia\", \"RSP\", \"Derecho\"]\n",
    "cursos.pop (3)\n",
    "print (cursos)"
   ]
  },
  {
   "cell_type": "markdown",
   "metadata": {},
   "source": [
    "11.\n",
    "  - Invierte la lista."
   ]
  },
  {
   "cell_type": "code",
   "execution_count": 78,
   "metadata": {},
   "outputs": [
    {
     "name": "stdout",
     "output_type": "stream",
     "text": [
      "['Derecho', 'RSP', 'Antropologia', 'Economia', 'Historia']\n",
      "['Derecho', 'RSP', 'Antropologia', 'Economia', 'Historia']\n"
     ]
    }
   ],
   "source": [
    "cursos = [\"Historia\", \"Economia\", \"Antropologia\", \"RSP\", \"Derecho\"]\n",
    "print (cursos[::-1])\n",
    "cursos = [\"Historia\", \"Economia\", \"Antropologia\", \"RSP\", \"Derecho\"]\n",
    "cursos.reverse ()\n",
    "print (cursos)"
   ]
  },
  {
   "cell_type": "markdown",
   "metadata": {},
   "source": [
    "12. Tenemos los siguientes números: 30, 24, 54.2, 15.8, 145, 90, 100.\n",
    " - Crea una lista con ellos. \n",
    " - Ordena la lista de menor a mayor.\n",
    " - Cuenta cuántos números mayores a 30 hay.\n",
    " - Saca el promedio de los números de la lista.  \n",
    "(Realiza cada uno en bloques separados)."
   ]
  },
  {
   "cell_type": "code",
   "execution_count": null,
   "metadata": {},
   "outputs": [],
   "source": [
    "numeros = [30, 24, 54.2, 15.8, 145, 90, 100]"
   ]
  },
  {
   "cell_type": "code",
   "execution_count": 104,
   "metadata": {},
   "outputs": [
    {
     "name": "stdout",
     "output_type": "stream",
     "text": [
      "[15.8, 24, 30, 54.2, 90, 100, 145]\n"
     ]
    }
   ],
   "source": [
    "numeros = [30, 24, 54.2, 15.8, 145, 90, 100]\n",
    "numeros.sort()\n",
    "print (numeros)"
   ]
  },
  {
   "cell_type": "code",
   "execution_count": 105,
   "metadata": {},
   "outputs": [
    {
     "data": {
      "text/plain": [
       "4"
      ]
     },
     "execution_count": 105,
     "metadata": {},
     "output_type": "execute_result"
    }
   ],
   "source": [
    "numeros = [15.8, 24, 30, 54.2, 90, 100, 145]\n",
    "len((numeros [numeros.index (30)+1:]))"
   ]
  },
  {
   "cell_type": "code",
   "execution_count": 124,
   "metadata": {},
   "outputs": [
    {
     "name": "stdout",
     "output_type": "stream",
     "text": [
      "65.57142857142857\n"
     ]
    }
   ],
   "source": [
    "numeros = [15.8, 24, 30, 54.2, 90, 100, 145]\n",
    "suma = numeros [0] + numeros [1] + numeros [2] + numeros [3] + numeros [4] + numeros [5] + numeros [6]\n",
    "promedio = suma / len(numeros)\n",
    "print (promedio)"
   ]
  },
  {
   "cell_type": "code",
   "execution_count": null,
   "metadata": {},
   "outputs": [],
   "source": []
  }
 ],
 "metadata": {
  "kernelspec": {
   "display_name": "Python 3",
   "language": "python",
   "name": "python3"
  },
  "language_info": {
   "codemirror_mode": {
    "name": "ipython",
    "version": 3
   },
   "file_extension": ".py",
   "mimetype": "text/x-python",
   "name": "python",
   "nbconvert_exporter": "python",
   "pygments_lexer": "ipython3",
   "version": "3.9.1"
  }
 },
 "nbformat": 4,
 "nbformat_minor": 4
}
